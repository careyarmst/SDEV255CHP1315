{
 "cells": [
  {
   "cell_type": "code",
   "execution_count": 17,
   "metadata": {},
   "outputs": [
    {
     "name": "stdout",
     "output_type": "stream",
     "text": [
      "2024-11-30\n",
      "\n"
     ]
    }
   ],
   "source": [
    "from datetime import datetime\n",
    "with open('date13chp.txt', 'rt') as input: \n",
    "   chap13string = input.read()\n",
    "\n",
    "strippy = '%Y-%m-%d\\n'\n",
    "datetime.strptime(chap13string, strippy)\n",
    "print(chap13string)"
   ]
  }
 ],
 "metadata": {
  "kernelspec": {
   "display_name": "Python 3",
   "language": "python",
   "name": "python3"
  },
  "language_info": {
   "codemirror_mode": {
    "name": "ipython",
    "version": 3
   },
   "file_extension": ".py",
   "mimetype": "text/x-python",
   "name": "python",
   "nbconvert_exporter": "python",
   "pygments_lexer": "ipython3",
   "version": "3.12.7"
  }
 },
 "nbformat": 4,
 "nbformat_minor": 2
}
